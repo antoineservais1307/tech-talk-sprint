{
 "cells": [
  {
   "cell_type": "markdown",
   "metadata": {},
   "source": [
    "# How to write readable code "
   ]
  },
  {
   "cell_type": "markdown",
   "metadata": {},
   "source": [
    "## 1 : Structure\n"
   ]
  },
  {
   "cell_type": "markdown",
   "metadata": {},
   "source": [
    "### 1a : Base Structure"
   ]
  },
  {
   "cell_type": "markdown",
   "metadata": {},
   "source": [
    "- Import first (alphabetical order)\n",
    "- Variable naming (camelCase/snake_case) and coherent names\n",
    "- Not so big function\n",
    "- if \\_\\_name\\_\\_ == \"\\_\\_main\\_\\_\"\n",
    "\n"
   ]
  },
  {
   "cell_type": "markdown",
   "metadata": {},
   "source": [
    "#### Import hierarchy"
   ]
  },
  {
   "cell_type": "code",
   "execution_count": null,
   "metadata": {},
   "outputs": [],
   "source": [
    "import math    # Import inbuilt python librabries\n",
    "import random\n",
    "\n",
    "import numpy as np  # Import external libraries\n",
    "import pandas as pd \n",
    "\n",
    "from cleaning.py import Cleaner  # Import user defined modules\n",
    "\n",
    "# All the different import should be put in alphabetical order"
   ]
  },
  {
   "cell_type": "markdown",
   "metadata": {},
   "source": [
    "#### Naming"
   ]
  },
  {
   "cell_type": "code",
   "execution_count": 8,
   "metadata": {},
   "outputs": [],
   "source": [
    "my_list_of_animals = ['dog', 'cat', 'fish', 'bird']  # Snake case variable names\n",
    "myListOfAnimals = ['dog', 'cat', 'fish', 'bird']  # Camel case variable names first letter of each word is capital except the first word\n",
    "\n",
    "# For functions only use snake case all lower case with underscores, they have to be descriptive not a \"my_func\" for exemple\n",
    "def add_two_numbers(number1, number2):\n",
    "    return number1 + number2\n",
    "\n",
    "\n",
    "# For classes only use Pascal case First letter of each word is capital\n",
    "class Animal:\n",
    "    def __init__(self, name):\n",
    "        self.name = name\n",
    "\n",
    "    def speak(self):\n",
    "        print(f'{self.name} says hello!')\n",
    "\n",
    "\n"
   ]
  },
  {
   "cell_type": "markdown",
   "metadata": {},
   "source": [
    "#### Functions"
   ]
  },
  {
   "cell_type": "code",
   "execution_count": 12,
   "metadata": {},
   "outputs": [
    {
     "name": "stdout",
     "output_type": "stream",
     "text": [
      "9\n",
      "9\n"
     ]
    }
   ],
   "source": [
    "def do_math(x, y, z): # Function names should be descriptive \n",
    "    addition = x + y\n",
    "    multiplication = addition * z\n",
    "    return multiplication\n",
    "\n",
    "# this is a small example of to cut \"complex\" functions into smaller functions to make it easier to read and understand\n",
    "\n",
    "def addition(x, y):\n",
    "    addition = x + y\n",
    "    return addition\n",
    "\n",
    "def multiplication(addition, z):\n",
    "    multiplication = addition * z\n",
    "    return multiplication\n",
    "\n",
    "if __name__ == '__main__':  # This is the main function that runs when you run the script\n",
    "    result = do_math(1, 2, 3)\n",
    "    print(result)\n",
    "\n",
    "\n",
    "# Display the result of the last two functions\n",
    "    addition_result = addition(1, 2)\n",
    "    multiplication_result = multiplication(addition_result, 3)\n",
    "    print(multiplication_result)\n"
   ]
  },
  {
   "cell_type": "markdown",
   "metadata": {},
   "source": [
    "### 1b : Typing"
   ]
  },
  {
   "cell_type": "markdown",
   "metadata": {},
   "source": [
    "#### Explain the type of the variable you want to define and in this case the type of the content of the list"
   ]
  },
  {
   "cell_type": "code",
   "execution_count": 3,
   "metadata": {},
   "outputs": [
    {
     "name": "stdout",
     "output_type": "stream",
     "text": [
      "['a', 'b', 'c']\n"
     ]
    }
   ],
   "source": [
    "my_list_of_animals : list[str] = ['dog', 'cat', 'fish', 'bird'] # Type hinting for variables"
   ]
  },
  {
   "cell_type": "markdown",
   "metadata": {},
   "source": [
    "#### And look it also woks for function/class\n"
   ]
  },
  {
   "cell_type": "code",
   "execution_count": null,
   "metadata": {},
   "outputs": [],
   "source": [
    "def addition(a: int, b: int) -> int: # Type hinting for functions\n",
    "    return a + b\n",
    "\n",
    "print(addition(1, 2)) "
   ]
  },
  {
   "cell_type": "code",
   "execution_count": 7,
   "metadata": {},
   "outputs": [
    {
     "name": "stdout",
     "output_type": "stream",
     "text": [
      "3\n"
     ]
    }
   ],
   "source": [
    "class Math:\n",
    "    def __init__(self, a: int, b: int):  # Type hinting for classes\n",
    "        self.a = a\n",
    "        self.b = b\n",
    "\n",
    "    def addition(self) -> int:\n",
    "        return self.a + self.b\n",
    "\n",
    "result = Math(1, 2)\n",
    "print(result.addition())"
   ]
  },
  {
   "cell_type": "markdown",
   "metadata": {},
   "source": [
    "##  2 : Comments and Docstrings"
   ]
  },
  {
   "cell_type": "markdown",
   "metadata": {},
   "source": [
    "### 2a : Comments"
   ]
  },
  {
   "cell_type": "code",
   "execution_count": null,
   "metadata": {},
   "outputs": [],
   "source": [
    "def addition(a: int, b: int) -> int: # use \"#\" for a single line comment\n",
    "    return a + b\n",
    "\n",
    "\"\"\"\n",
    "This function adds two numbers together \n",
    "\"\"\" \n",
    "# type or comments between \"\"\" \"\"\" for multi line comments\n",
    "\n",
    "def addition(a: int, b: int) -> int:\n",
    "    return a + b"
   ]
  },
  {
   "cell_type": "markdown",
   "metadata": {},
   "source": [
    "### 2b : Docstrings"
   ]
  },
  {
   "cell_type": "markdown",
   "metadata": {},
   "source": [
    "#### Describe your function properly so anyone can understand it without executing the script"
   ]
  },
  {
   "cell_type": "code",
   "execution_count": null,
   "metadata": {},
   "outputs": [],
   "source": [
    "def addition(a: int, b: int) -> int:\n",
    "    \"\"\"\n",
    "    This function adds two numbers together  (little explaination of the function)\n",
    "    param a: int (parameter type)\n",
    "    param b: int (parameter type write as many as parameters you have)\n",
    "    return: int  (return type)\n",
    "    \"\"\"\n",
    "    return a + b"
   ]
  },
  {
   "cell_type": "markdown",
   "metadata": {},
   "source": [
    "## 3 : PEP8"
   ]
  },
  {
   "cell_type": "markdown",
   "metadata": {},
   "source": [
    "### A way to really improve the beauty of you code"
   ]
  },
  {
   "cell_type": "markdown",
   "metadata": {},
   "source": [
    "#### Spacing"
   ]
  },
  {
   "cell_type": "code",
   "execution_count": null,
   "metadata": {},
   "outputs": [],
   "source": [
    "import datetime\n",
    "name = \"Alice\"\n",
    "birthdate = datetime.datetime.strptime(\"01/01/2000\", \"%m/%d/%Y\").date()\n",
    "today = datetime.date.today()\n",
    "next_birthday = birthdate.replace(year=today.year)\n",
    "if next_birthday < today:\n",
    "    next_birthday = next_birthday.replace(year=today.year + 1)\n",
    "days_till_birthday = (next_birthday - today).days\n",
    "print(f\"Hello, {name}!\")\n",
    "print(f\"Your birthday is in {days_till_birthday} days\")"
   ]
  },
  {
   "cell_type": "markdown",
   "metadata": {},
   "source": [
    " Isn't it disgusting to read ? "
   ]
  },
  {
   "cell_type": "code",
   "execution_count": 4,
   "metadata": {},
   "outputs": [
    {
     "name": "stdout",
     "output_type": "stream",
     "text": [
      "Hello, Alice!\n",
      "Your birthday is in 326 days\n"
     ]
    }
   ],
   "source": [
    "import datetime\n",
    "\n",
    "\n",
    "name = \"Alice\"\n",
    "birthdate = datetime.datetime.strptime(\"01/01/2000\", \"%m/%d/%Y\").date() \n",
    "today = datetime.date.today()\n",
    "next_birthday = birthdate.replace(year=today.year)\n",
    "\n",
    "if next_birthday < today:\n",
    "    next_birthday = next_birthday.replace(year=today.year + 1)\n",
    "\n",
    "days_till_birthday = (next_birthday - today).days\n",
    "\n",
    "print(f\"Hello, {name}!\")\n",
    "print(f\"Your birthday is in {days_till_birthday} days\")"
   ]
  },
  {
   "cell_type": "markdown",
   "metadata": {},
   "source": [
    "Aaaaah way better isn't it ! "
   ]
  },
  {
   "cell_type": "markdown",
   "metadata": {},
   "source": [
    "#### If you want to make something if a variable is True"
   ]
  },
  {
   "cell_type": "code",
   "execution_count": 5,
   "metadata": {},
   "outputs": [],
   "source": [
    "yes = True\n",
    "\n",
    "# instead of using this\n",
    "if yes == True:\n",
    "    print(\"Yes is True\")\n",
    "\n",
    "# you can use this\n",
    "if yes:\n",
    "    print(\"Yes is True\")\n",
    "\n",
    "# Same for \"While True:\" (it's not really advisable to use while true btw)"
   ]
  },
  {
   "cell_type": "markdown",
   "metadata": {},
   "source": [
    "### Plenty of other \"rules\" on this page : https://peps.python.org/pep-0008/"
   ]
  },
  {
   "cell_type": "markdown",
   "metadata": {},
   "source": [
    "## Now that you now how to write code properly and easilly readble here is your turn "
   ]
  },
  {
   "cell_type": "markdown",
   "metadata": {},
   "source": [
    "### Go the the Exercices file and enjoy !"
   ]
  },
  {
   "cell_type": "markdown",
   "metadata": {},
   "source": [
    "![](https://media3.giphy.com/media/v1.Y2lkPTc5MGI3NjExcnBxaWQ0aWNvMWkxczBiZjc3c2F3bmUybnVlcDRrcGMycm9ucGxoOSZlcD12MV9pbnRlcm5hbF9naWZfYnlfaWQmY3Q9Zw/YlSIESTw3bjAC0BzJg/giphy.gif)"
   ]
  }
 ],
 "metadata": {
  "kernelspec": {
   "display_name": "Python 3",
   "language": "python",
   "name": "python3"
  },
  "language_info": {
   "codemirror_mode": {
    "name": "ipython",
    "version": 3
   },
   "file_extension": ".py",
   "mimetype": "text/x-python",
   "name": "python",
   "nbconvert_exporter": "python",
   "pygments_lexer": "ipython3",
   "version": "3.12.2"
  }
 },
 "nbformat": 4,
 "nbformat_minor": 2
}
